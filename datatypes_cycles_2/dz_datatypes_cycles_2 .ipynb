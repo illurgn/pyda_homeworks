{
 "cells": [
  {
   "cell_type": "code",
   "execution_count": 108,
   "id": "9411bfad",
   "metadata": {},
   "outputs": [],
   "source": [
    "#1\n",
    "ids = {'user1': [213, 213, 213, 15, 213], \n",
    "       'user2': [54, 54, 119, 119, 119], \n",
    "       'user3': [213, 98, 98, 35]}"
   ]
  },
  {
   "cell_type": "code",
   "execution_count": 109,
   "id": "ea1e0b8d",
   "metadata": {},
   "outputs": [
    {
     "name": "stdout",
     "output_type": "stream",
     "text": [
      "{98, 35, 15, 213, 54, 119}\n"
     ]
    }
   ],
   "source": [
    "geo_tag = sum(ids.values(),[])\n",
    "print(set(geo_tag))"
   ]
  },
  {
   "cell_type": "code",
   "execution_count": 110,
   "id": "0f4a1093",
   "metadata": {},
   "outputs": [],
   "source": [
    "#2\n",
    "queries = [\n",
    "    'смотреть сериалы онлайн',\n",
    "    'новости спорта',\n",
    "    'афиша кино',\n",
    "    'курс доллара',\n",
    "    'сериалы этим летом',\n",
    "    'курс по питону',\n",
    "    'сериалы про спорт',\n",
    "]"
   ]
  },
  {
   "cell_type": "code",
   "execution_count": 111,
   "id": "9cd96724",
   "metadata": {},
   "outputs": [],
   "source": [
    "querie = []\n",
    "i = 0\n",
    "search_two_words = 0\n",
    "search_three_words = 0\n",
    "\n",
    "while i < len(queries):\n",
    "    querie.append(queries[i].split(' '))\n",
    "    i += 1\n",
    "\n",
    "j = 0\n",
    "while j < len(querie):\n",
    "    if len(querie[j]) == 2:\n",
    "        search_two_words += 1 \n",
    "    else:\n",
    "        search_three_words +=1\n",
    "    j += 1"
   ]
  },
  {
   "cell_type": "code",
   "execution_count": 112,
   "id": "78827ce7",
   "metadata": {},
   "outputs": [
    {
     "name": "stdout",
     "output_type": "stream",
     "text": [
      "Поисковых запросов, содержащих 2 слов(а): 42.86%\n",
      "Поисковых запросов, содержащих 3 слов(а): 57.14%\n"
     ]
    }
   ],
   "source": [
    "print(f'Поисковых запросов, содержащих 2 слов(а): {round(search_two_words / len(querie) * 100, 2)}%')\n",
    "print(f'Поисковых запросов, содержащих 3 слов(а): {round(search_three_words / len(querie) * 100, 2)}%')"
   ]
  },
  {
   "cell_type": "code",
   "execution_count": 113,
   "id": "bf852bb5",
   "metadata": {},
   "outputs": [],
   "source": [
    "#3\n",
    "results = {\n",
    "    'vk': {'revenue': 103, 'cost': 98},\n",
    "    'yandex': {'revenue': 179, 'cost': 153},\n",
    "    'facebook': {'revenue': 103, 'cost': 110},\n",
    "    'adwords': {'revenue': 35, 'cost': 34},\n",
    "    'twitter': {'revenue': 11, 'cost': 24},\n",
    "}"
   ]
  },
  {
   "cell_type": "code",
   "execution_count": 114,
   "id": "5d7888a8",
   "metadata": {},
   "outputs": [],
   "source": [
    "# ROI = (revenue / cost - 1) * 100\n",
    "\n",
    "for key, value in results.items():\n",
    "    results[key]['ROI'] = round((value['revenue'] / value['cost'] - 1) * 100, 2)"
   ]
  },
  {
   "cell_type": "code",
   "execution_count": 115,
   "id": "372a9b02",
   "metadata": {},
   "outputs": [
    {
     "name": "stdout",
     "output_type": "stream",
     "text": [
      "{'vk': {'revenue': 103, 'cost': 98, 'ROI': 5.1}, 'yandex': {'revenue': 179, 'cost': 153, 'ROI': 16.99}, 'facebook': {'revenue': 103, 'cost': 110, 'ROI': -6.36}, 'adwords': {'revenue': 35, 'cost': 34, 'ROI': 2.94}, 'twitter': {'revenue': 11, 'cost': 24, 'ROI': -54.17}}\n"
     ]
    }
   ],
   "source": [
    "print(results)"
   ]
  },
  {
   "cell_type": "code",
   "execution_count": 116,
   "id": "bf3cb3b8",
   "metadata": {},
   "outputs": [],
   "source": [
    "#4\n",
    "stats = {'facebook': 55, 'yandex': 115, 'vk': 120, 'google': 99, 'email': 42, 'ok': 98}"
   ]
  },
  {
   "cell_type": "code",
   "execution_count": 117,
   "id": "8625120f",
   "metadata": {},
   "outputs": [
    {
     "name": "stdout",
     "output_type": "stream",
     "text": [
      "Максимальный объем продаж на рекламном канале: vk\n"
     ]
    }
   ],
   "source": [
    "print(f'Максимальный объем продаж на рекламном канале: {max(stats, key = stats.get)}')"
   ]
  },
  {
   "cell_type": "code",
   "execution_count": 118,
   "id": "72371d13",
   "metadata": {},
   "outputs": [],
   "source": [
    "#5\n",
    "my_list = ['2018-01-01', 'yandex', 'cpc', 100]"
   ]
  },
  {
   "cell_type": "code",
   "execution_count": 119,
   "id": "01bd59d9",
   "metadata": {},
   "outputs": [],
   "source": [
    "my_dict = {my_list[-2]: my_list[-1]}\n",
    "for i in my_list[:-2][::-1]:\n",
    "    my_dict = {i: my_dict}"
   ]
  },
  {
   "cell_type": "code",
   "execution_count": 120,
   "id": "0415ae2a",
   "metadata": {},
   "outputs": [
    {
     "data": {
      "text/plain": [
       "{'2018-01-01': {'yandex': {'cpc': 100}}}"
      ]
     },
     "execution_count": 120,
     "metadata": {},
     "output_type": "execute_result"
    }
   ],
   "source": [
    "my_dict"
   ]
  },
  {
   "cell_type": "code",
   "execution_count": 121,
   "id": "65d21cf1",
   "metadata": {},
   "outputs": [],
   "source": [
    "my_list = ['a', 'b', 'c', 'd', 'e', 'f']"
   ]
  },
  {
   "cell_type": "code",
   "execution_count": 122,
   "id": "eb31fad6",
   "metadata": {},
   "outputs": [],
   "source": [
    "my_dict = {my_list[-2]: my_list[-1]}\n",
    "for i in my_list[:-2][::-1]:\n",
    "    my_dict = {i: my_dict}"
   ]
  },
  {
   "cell_type": "code",
   "execution_count": 123,
   "id": "102003fe",
   "metadata": {},
   "outputs": [
    {
     "data": {
      "text/plain": [
       "{'a': {'b': {'c': {'d': {'e': 'f'}}}}}"
      ]
     },
     "execution_count": 123,
     "metadata": {},
     "output_type": "execute_result"
    }
   ],
   "source": [
    "my_dict"
   ]
  },
  {
   "cell_type": "code",
   "execution_count": 124,
   "id": "1c583f68",
   "metadata": {},
   "outputs": [],
   "source": [
    "#6\n",
    "cook_book = {\n",
    "  'салат': [\n",
    "     {'ingridient_name': 'сыр', 'quantity': 50, 'measure': 'гр'},\n",
    "     {'ingridient_name': 'томаты', 'quantity': 2, 'measure': 'шт'},\n",
    "     {'ingridient_name': 'огурцы', 'quantity': 20, 'measure': 'гр'},\n",
    "     {'ingridient_name': 'маслины', 'quantity': 10, 'measure': 'гр'},\n",
    "     {'ingridient_name': 'оливковое масло', 'quantity': 20, 'measure': 'мл'},\n",
    "     {'ingridient_name': 'салат', 'quantity': 10, 'measure': 'гр'},\n",
    "     {'ingridient_name': 'перец', 'quantity': 20, 'measure': 'гр'}\n",
    "    ],\n",
    "  'пицца': [\n",
    "     {'ingridient_name': 'сыр', 'quantity': 20, 'measure': 'гр'},\n",
    "     {'ingridient_name': 'колбаса', 'quantity': 30, 'measure': 'гр'},\n",
    "     {'ingridient_name': 'бекон', 'quantity': 30, 'measure': 'гр'},\n",
    "     {'ingridient_name': 'оливки', 'quantity': 10, 'measure': 'гр'},\n",
    "     {'ingridient_name': 'томаты', 'quantity': 20, 'measure': 'гр'},\n",
    "     {'ingridient_name': 'тесто', 'quantity': 100, 'measure': 'гр'},   \n",
    "    ],\n",
    "  'лимонад': [\n",
    "     {'ingridient_name': 'лимон', 'quantity': 1, 'measure': 'шт'},\n",
    "     {'ingridient_name': 'вода', 'quantity': 200, 'measure': 'мл'},\n",
    "     {'ingridient_name': 'сахар', 'quantity': 10, 'measure': 'гр'},\n",
    "     {'ingridient_name': 'лайм', 'quantity': 20, 'measure': 'гр'},    \n",
    "    ]\n",
    "}"
   ]
  },
  {
   "cell_type": "code",
   "execution_count": 125,
   "id": "cedb2226",
   "metadata": {},
   "outputs": [
    {
     "name": "stdout",
     "output_type": "stream",
     "text": [
      "Введите количество порций: 3\n"
     ]
    }
   ],
   "source": [
    "number_of_servings = int(input('Введите количество порций: ')) "
   ]
  },
  {
   "cell_type": "code",
   "execution_count": 126,
   "id": "87a23d45",
   "metadata": {},
   "outputs": [
    {
     "data": {
      "text/plain": [
       "'лимон'"
      ]
     },
     "execution_count": 126,
     "metadata": {},
     "output_type": "execute_result"
    }
   ],
   "source": [
    "# словарь ключ: значение список из словарей\n",
    "cook_book['лимонад'][0]['ingridient_name']"
   ]
  },
  {
   "cell_type": "code",
   "execution_count": 127,
   "id": "162b0a70",
   "metadata": {},
   "outputs": [
    {
     "name": "stdout",
     "output_type": "stream",
     "text": [
      "Сыр: 150 гр\n",
      "Томаты: 6 шт\n",
      "Огурцы: 60 гр\n",
      "Маслины: 30 гр\n",
      "Оливковое масло: 60 мл\n",
      "Салат: 30 гр\n",
      "Перец: 60 гр\n",
      "Сыр: 60 гр\n",
      "Колбаса: 90 гр\n",
      "Бекон: 90 гр\n",
      "Оливки: 30 гр\n",
      "Томаты: 60 гр\n",
      "Тесто: 300 гр\n",
      "Лимон: 3 шт\n",
      "Вода: 600 мл\n",
      "Сахар: 30 гр\n",
      "Лайм: 60 гр\n"
     ]
    }
   ],
   "source": [
    "for key in cook_book.keys():\n",
    "    i = 0\n",
    "    while i < len(cook_book[key]):\n",
    "        ingridient_name = cook_book[key][i]['ingridient_name'].capitalize()\n",
    "        quantity = (cook_book[key][i]['quantity']) * number_of_servings\n",
    "        measure = cook_book[key][i]['measure']\n",
    "        print(f'{ingridient_name}: {quantity} {measure}')\n",
    "        i += 1"
   ]
  },
  {
   "cell_type": "code",
   "execution_count": null,
   "id": "227879ae",
   "metadata": {},
   "outputs": [],
   "source": []
  },
  {
   "cell_type": "code",
   "execution_count": null,
   "id": "2f7a1483",
   "metadata": {},
   "outputs": [],
   "source": []
  }
 ],
 "metadata": {
  "kernelspec": {
   "display_name": "Python 3",
   "language": "python",
   "name": "python3"
  },
  "language_info": {
   "codemirror_mode": {
    "name": "ipython",
    "version": 3
   },
   "file_extension": ".py",
   "mimetype": "text/x-python",
   "name": "python",
   "nbconvert_exporter": "python",
   "pygments_lexer": "ipython3",
   "version": "3.8.8"
  }
 },
 "nbformat": 4,
 "nbformat_minor": 5
}
