{
 "cells": [
  {
   "cell_type": "code",
   "execution_count": 1,
   "id": "a0a7bc14",
   "metadata": {},
   "outputs": [
    {
     "name": "stdout",
     "output_type": "stream",
     "text": [
      "Фраза 1 длиннее фразы 2\n"
     ]
    }
   ],
   "source": [
    "# Задание 1\n",
    "phrase_1 = 'Насколько проще было бы писать программы, если бы не заказчики'\n",
    "phrase_2 = '640Кб должно хватить для любых задач. Билл Гейтс (по легенде)''\n",
    "\n",
    "if len(phrase_1) > len(phrase_2):\n",
    "    print('Фраза 1 длиннее фразы 2')\n",
    "elif:\n",
    "    print('Фраза 2 длиннее фразы 1')\n",
    "else:\n",
    "    print('Фразы равной длины')"
   ]
  },
  {
   "cell_type": "code",
   "execution_count": 3,
   "id": "477c491f",
   "metadata": {},
   "outputs": [
    {
     "name": "stdout",
     "output_type": "stream",
     "text": [
      "Фраза 2 длиннее фразы 1\n"
     ]
    }
   ],
   "source": [
    "phrase_1 = '640Кб должно хватить для любых задач. Билл Гейтс (по легенде)'\n",
    "phrase_2 = 'Насколько проще было бы писать программы, если бы не заказчики'\n",
    "\n",
    "if len(phrase_1) > len(phrase_2):\n",
    "    print('Фраза 1 длиннее фразы 2')\n",
    "elif len(phrase_1) < len(phrase_2):\n",
    "    print('Фраза 2 длиннее фразы 1')\n",
    "else:\n",
    "    print('Фразы равной длины')"
   ]
  },
  {
   "cell_type": "code",
   "execution_count": 4,
   "id": "85588e9e",
   "metadata": {},
   "outputs": [
    {
     "name": "stdout",
     "output_type": "stream",
     "text": [
      "Фразы равной длины\n"
     ]
    }
   ],
   "source": [
    "phrase_1 = 'Насколько проще было бы писать программы, если бы не заказчики'\n",
    "phrase_2 = 'Насколько проще было бы писать программы, если бы не заказчики'\n",
    "\n",
    "if len(phrase_1) > len(phrase_2):\n",
    "    print('Фраза 1 длиннее фразы 2')\n",
    "elif len(phrase_1) < len(phrase_2):\n",
    "    print('Фраза 2 длиннее фразы 1')\n",
    "else:\n",
    "    print('Фразы равной длины')"
   ]
  },
  {
   "cell_type": "code",
   "execution_count": 5,
   "id": "ac1c59e0",
   "metadata": {},
   "outputs": [
    {
     "name": "stdout",
     "output_type": "stream",
     "text": [
      "Високосный год\n"
     ]
    }
   ],
   "source": [
    "# Задание 2\n",
    "year = 2020\n",
    "\n",
    "if year % 4 == 0 or (year % 100 != 0 and year % 400 == 0):\n",
    "    print('Високосный год')\n",
    "else:\n",
    "    print('Обычный год')"
   ]
  },
  {
   "cell_type": "code",
   "execution_count": 6,
   "id": "9cf83fac",
   "metadata": {},
   "outputs": [
    {
     "name": "stdout",
     "output_type": "stream",
     "text": [
      "Обычный год\n"
     ]
    }
   ],
   "source": [
    "year = 2019\n",
    "\n",
    "if year % 4 == 0 or (year % 100 != 0 and year % 400 == 0):\n",
    "    print('Високосный год')\n",
    "else:\n",
    "    print('Обычный год')"
   ]
  },
  {
   "cell_type": "code",
   "execution_count": 21,
   "id": "a1bb0ec0",
   "metadata": {
    "scrolled": true
   },
   "outputs": [
    {
     "name": "stdout",
     "output_type": "stream",
     "text": [
      "Введите день: 30\n",
      "Введите месяц: 8\n",
      "Ваш знак зодиака: Дева\n"
     ]
    }
   ],
   "source": [
    "# Задание 3\n",
    "b_day = int(input('Введите день: '))\n",
    "b_month = int(input('Введите месяц: '))\n",
    "\n",
    "if (21 <= b_day and b_month == 3) or (b_day <= 20 and b_month == 4):\n",
    "    print('Ваш знак зодиака: Овен')\n",
    "elif (21 <= b_day and b_month == 4) or (b_day <= 21 and b_month == 5):\n",
    "    print('Ваш знак зодиака: Телец')\n",
    "elif (22 <= b_day and b_month == 5) or (b_day <= 21 and b_month == 6):\n",
    "    print('Ваш знак зодиака: Близнецы')\n",
    "elif (22 <= b_day and b_month == 6) or (b_day <= 22 and b_month == 7):\n",
    "    print('Ваш знак зодиака: Рак')\n",
    "elif (23 <= b_day and b_month == 7) or (b_day <= 23 and b_month == 8):\n",
    "    print('Ваш знак зодиака: Лев')\n",
    "elif (24 <= b_day and b_month == 8) or (b_day <= 22 and b_month == 9):\n",
    "    print('Ваш знак зодиака: Дева')\n",
    "elif (23 <= b_day and b_month == 9) or (b_day <= 22 and b_month == 10):\n",
    "    print('Ваш знак зодиака: Весы')\n",
    "elif (23 <= b_day and b_month == 10) or (b_day <= 22 and b_month == 11):\n",
    "    print('Ваш знак зодиака: Скорпион')\n",
    "elif (23 <= b_day and b_month == 11) or (b_day <= 21 and b_month == 12):\n",
    "    print('Ваш знак зодиака: Стрелец')\n",
    "elif (22 <= b_day and b_month == 12) or (b_day <= 20 and b_month == 1):\n",
    "    print('Ваш знак зодиака: Козерог')\n",
    "elif (21 <= b_day and b_month == 1) or (b_day <= 19 and b_month == 2):\n",
    "    print('Ваш знак зодиака: Водолей')\n",
    "else:\n",
    "    print('Ваш знак зодиака: Рыбы')"
   ]
  },
  {
   "cell_type": "code",
   "execution_count": 22,
   "id": "302b9bca",
   "metadata": {},
   "outputs": [
    {
     "name": "stdout",
     "output_type": "stream",
     "text": [
      "Введите день: 29\n",
      "Введите месяц: 10\n",
      "Ваш знак зодиака: Скорпион\n"
     ]
    }
   ],
   "source": [
    "b_day = int(input('Введите день: '))\n",
    "b_month = int(input('Введите месяц: '))\n",
    "\n",
    "if (21 <= b_day and b_month == 3) or (b_day <= 20 and b_month == 4):\n",
    "    print('Ваш знак зодиака: Овен')\n",
    "elif (21 <= b_day and b_month == 4) or (b_day <= 21 and b_month == 5):\n",
    "    print('Ваш знак зодиака: Телец')\n",
    "elif (22 <= b_day and b_month == 5) or (b_day <= 21 and b_month == 6):\n",
    "    print('Ваш знак зодиака: Близнецы')\n",
    "elif (22 <= b_day and b_month == 6) or (b_day <= 22 and b_month == 7):\n",
    "    print('Ваш знак зодиака: Рак')\n",
    "elif (23 <= b_day and b_month == 7) or (b_day <= 23 and b_month == 8):\n",
    "    print('Ваш знак зодиака: Лев')\n",
    "elif (24 <= b_day and b_month == 8) or (b_day <= 22 and b_month == 9):\n",
    "    print('Ваш знак зодиака: Дева')\n",
    "elif (23 <= b_day and b_month == 9) or (b_day <= 22 and b_month == 10):\n",
    "    print('Ваш знак зодиака: Весы')\n",
    "elif (23 <= b_day and b_month == 10) or (b_day <= 22 and b_month == 11):\n",
    "    print('Ваш знак зодиака: Скорпион')\n",
    "elif (23 <= b_day and b_month == 11) or (b_day <= 21 and b_month == 12):\n",
    "    print('Ваш знак зодиака: Стрелец')\n",
    "elif (22 <= b_day and b_month == 12) or (b_day <= 20 and b_month == 1):\n",
    "    print('Ваш знак зодиака: Козерог')\n",
    "elif (21 <= b_day and b_month == 1) or (b_day <= 19 and b_month == 2):\n",
    "    print('Ваш знак зодиака: Водолей')\n",
    "else:\n",
    "    print('Ваш знак зодиака: Рыбы')"
   ]
  },
  {
   "cell_type": "code",
   "execution_count": 26,
   "id": "7e2616f2",
   "metadata": {},
   "outputs": [
    {
     "name": "stdout",
     "output_type": "stream",
     "text": [
      "Стандартная коробка №3\n"
     ]
    }
   ],
   "source": [
    "# Задание 4\n",
    "width = 15\n",
    "length = 50\n",
    "height = 15\n",
    "\n",
    "if 200 < length:\n",
    "    print('Упаковка для лыж')\n",
    "elif width < 15 and length < 15 and height < 15:\n",
    "    print('Коробка №1')\n",
    "elif 15 < width < 50 or 15 < length < 50 or 15 < height < 50:\n",
    "    print('Коробка №2')\n",
    "else: \n",
    "    print('Стандартная коробка №3')"
   ]
  },
  {
   "cell_type": "code",
   "execution_count": 27,
   "id": "c17fb724",
   "metadata": {},
   "outputs": [
    {
     "name": "stdout",
     "output_type": "stream",
     "text": [
      "Упаковка для лыж\n"
     ]
    }
   ],
   "source": [
    "width = 45\n",
    "length = 205\n",
    "height = 45\n",
    "\n",
    "if 200 < length:\n",
    "    print('Упаковка для лыж')\n",
    "elif width < 15 and length < 15 and height < 15:\n",
    "    print('Коробка №1')\n",
    "elif 15 < width < 50 or 15 < length < 50 or 15 < height < 50:\n",
    "    print('Коробка №2')\n",
    "else: \n",
    "    print('Стандартная коробка №3')"
   ]
  },
  {
   "cell_type": "code",
   "execution_count": 38,
   "id": "28bf6962",
   "metadata": {},
   "outputs": [
    {
     "name": "stdout",
     "output_type": "stream",
     "text": [
      "Несчастливый билет\n"
     ]
    }
   ],
   "source": [
    "number = 123456\n",
    "n = str(number)\n",
    "\n",
    "if (int(n[0]) + int(n[1]) + int(n[2]) == int(n[3]) + int(n[4]) + int(n[5])):\n",
    "    print('Счастливый билет')\n",
    "else:\n",
    "    print('Несчастливый билет')"
   ]
  },
  {
   "cell_type": "code",
   "execution_count": 39,
   "id": "5d3865a9",
   "metadata": {},
   "outputs": [
    {
     "name": "stdout",
     "output_type": "stream",
     "text": [
      "Счастливый билет\n"
     ]
    }
   ],
   "source": [
    "number = 123321\n",
    "n = str(number)\n",
    "\n",
    "if (int(n[0]) + int(n[1]) + int(n[2]) == int(n[3]) + int(n[4]) + int(n[5])):\n",
    "    print('Счастливый билет')\n",
    "else:\n",
    "    print('Несчастливый билет')"
   ]
  },
  {
   "cell_type": "code",
   "execution_count": 41,
   "id": "d1d5a8a4",
   "metadata": {},
   "outputs": [
    {
     "name": "stdout",
     "output_type": "stream",
     "text": [
      "Введите тип фигуры: Круг\n",
      "Введите радиус круга: 10\n",
      "Площадь круга:  314.1592653589793\n"
     ]
    }
   ],
   "source": [
    "# Задание 6\n",
    "import math\n",
    "figure = input('Введите тип фигуры: ')\n",
    "\n",
    "if figure == 'Круг':\n",
    "    r = int(input('Введите радиус круга: '))\n",
    "    S = math.pi * (r ** 2)\n",
    "    print('Площадь круга: ', S)\n",
    "elif figure == 'Треугольник':\n",
    "    a = int(input('Введите длину стороны A: '))\n",
    "    b = int(input('Введите длину стороны B: '))\n",
    "    c = int(input('Введите длину стороны C: '))\n",
    "    p = (a + b + c) / 2\n",
    "    S = math.sqrt(p * (p - a) * (p - b) * (p - c))\n",
    "    print('Площадь треугольника: ', S)\n",
    "elif figure == 'Прямоугольник':\n",
    "    a = int(input('Введите длину стороны A: '))\n",
    "    b = int(input('Введите длину стороны B: '))\n",
    "    S = a * b\n",
    "    print('Площадь прямоугольника: ', S)"
   ]
  },
  {
   "cell_type": "code",
   "execution_count": 42,
   "id": "1c59b285",
   "metadata": {},
   "outputs": [
    {
     "name": "stdout",
     "output_type": "stream",
     "text": [
      "Введите тип фигуры: Треугольник\n",
      "Введите длину стороны A: 2\n",
      "Введите длину стороны B: 2\n",
      "Введите длину стороны C: 3\n",
      "Площадь треугольника:  1.984313483298443\n"
     ]
    }
   ],
   "source": [
    "figure = input('Введите тип фигуры: ')\n",
    "\n",
    "if figure == 'Круг':\n",
    "    r = int(input('Введите радиус круга: '))\n",
    "    S = math.pi * (r ** 2)\n",
    "    print('Площадь круга: ', S)\n",
    "elif figure == 'Треугольник':\n",
    "    a = int(input('Введите длину стороны A: '))\n",
    "    b = int(input('Введите длину стороны B: '))\n",
    "    c = int(input('Введите длину стороны C: '))\n",
    "    p = (a + b + c) / 2\n",
    "    S = math.sqrt(p * (p - a) * (p - b) * (p - c))\n",
    "    print('Площадь треугольника: ', S)\n",
    "elif figure == 'Прямоугольник':\n",
    "    a = int(input('Введите длину стороны A: '))\n",
    "    b = int(input('Введите длину стороны B: '))\n",
    "    S = a * b\n",
    "    print('Площадь прямоугольника: ', S)"
   ]
  },
  {
   "cell_type": "code",
   "execution_count": null,
   "id": "135996d2",
   "metadata": {},
   "outputs": [],
   "source": []
  }
 ],
 "metadata": {
  "kernelspec": {
   "display_name": "Python 3",
   "language": "python",
   "name": "python3"
  },
  "language_info": {
   "codemirror_mode": {
    "name": "ipython",
    "version": 3
   },
   "file_extension": ".py",
   "mimetype": "text/x-python",
   "name": "python",
   "nbconvert_exporter": "python",
   "pygments_lexer": "ipython3",
   "version": "3.8.8"
  }
 },
 "nbformat": 4,
 "nbformat_minor": 5
}
