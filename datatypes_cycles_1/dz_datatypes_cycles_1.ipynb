{
 "cells": [
  {
   "cell_type": "code",
   "execution_count": 1,
   "id": "ec92d54e",
   "metadata": {},
   "outputs": [
    {
     "name": "stdout",
     "output_type": "stream",
     "text": [
      "es\n"
     ]
    }
   ],
   "source": [
    "#1\n",
    "word = 'test'\n",
    "\n",
    "if len(word) % 2 == 0:\n",
    "    w = int(len(word) / 2)\n",
    "    print(word[(w-1):(w+1)])\n",
    "else:\n",
    "    print(word[((len(word)-1)/2)])"
   ]
  },
  {
   "cell_type": "code",
   "execution_count": 2,
   "id": "4f158cf0",
   "metadata": {},
   "outputs": [
    {
     "name": "stdout",
     "output_type": "stream",
     "text": [
      "t\n"
     ]
    }
   ],
   "source": [
    "word = 'testing'\n",
    "\n",
    "if len(word) % 2 == 0:\n",
    "    w = int(len(word) / 2)\n",
    "    print(word[(w - 1):(w + 1)])\n",
    "else:\n",
    "    w = int((len(word) - 1) / 2)\n",
    "    print(word[w])"
   ]
  },
  {
   "cell_type": "code",
   "execution_count": 3,
   "id": "2bca1c7e",
   "metadata": {},
   "outputs": [
    {
     "name": "stdout",
     "output_type": "stream",
     "text": [
      "Введите число: 1\n",
      "Введите число: 4\n",
      "Введите число: 6\n",
      "Введите число: 0\n",
      "Результат: 11\n"
     ]
    }
   ],
   "source": [
    "#2\n",
    "calculator = []\n",
    "calculator.append(int(input('Введите число: ')))\n",
    "x = 0\n",
    "\n",
    "while calculator[x] >= 0:\n",
    "    if min(calculator) == 0:\n",
    "        print(f'Результат: {sum(calculator)}')\n",
    "        break\n",
    "    else:\n",
    "        calculator.append(int(input('Введите число: ')))\n",
    "    x += 0"
   ]
  },
  {
   "cell_type": "code",
   "execution_count": 4,
   "id": "992b7047",
   "metadata": {},
   "outputs": [
    {
     "name": "stdout",
     "output_type": "stream",
     "text": [
      "Введите число: 0\n",
      "Результат: 0\n"
     ]
    }
   ],
   "source": [
    "calculator = []\n",
    "calculator.append(int(input('Введите число: ')))\n",
    "\n",
    "while calculator[x] >= 0:\n",
    "    if min(calculator) == 0:\n",
    "        print(f'Результат: {sum(calculator)}')\n",
    "        break\n",
    "    else:\n",
    "        calculator.append(int(input('Введите число: ')))\n",
    "    x += 0"
   ]
  },
  {
   "cell_type": "code",
   "execution_count": 5,
   "id": "ab5f4477",
   "metadata": {
    "scrolled": true
   },
   "outputs": [
    {
     "name": "stdout",
     "output_type": "stream",
     "text": [
      "Идеальные пары: \n",
      "Alex и Emma\n",
      "Arthur и Kate\n",
      "John и Kira\n",
      "Peter и Liza\n",
      "Richard и Trisha\n"
     ]
    }
   ],
   "source": [
    "#3\n",
    "boys = ['Peter', 'Alex', 'John', 'Arthur', 'Richard']\n",
    "girls = ['Kate', 'Liza', 'Kira', 'Emma', 'Trisha']\n",
    "y = 0\n",
    "\n",
    "if len(boys) == len(girls):\n",
    "    print('Идеальные пары: ')\n",
    "    while y < len(boys):\n",
    "        print(sorted(boys)[y] + ' и ' + sorted(girls)[y])\n",
    "        y += 1\n",
    "else:\n",
    "    print('Внимание, кто-то может остаться без пары!')"
   ]
  },
  {
   "cell_type": "code",
   "execution_count": 6,
   "id": "e515c66f",
   "metadata": {},
   "outputs": [
    {
     "name": "stdout",
     "output_type": "stream",
     "text": [
      "Внимание, кто-то может остаться без пары!\n"
     ]
    }
   ],
   "source": [
    "boys = ['Peter', 'Alex', 'John', 'Arthur', 'Richard', 'Michael']\n",
    "girls = ['Kate', 'Liza', 'Kira', 'Emma', 'Trisha']\n",
    "\n",
    "if len(boys) == len(girls):\n",
    "    print('Идеальные пары: ')\n",
    "    while y < len(boys):\n",
    "        print(sorted(boys)[y] + ' и ' + sorted(girls)[y])\n",
    "        y += 1\n",
    "else:\n",
    "    print('Внимание, кто-то может остаться без пары!')"
   ]
  },
  {
   "cell_type": "code",
   "execution_count": 7,
   "id": "aa16d8fa",
   "metadata": {},
   "outputs": [
    {
     "name": "stdout",
     "output_type": "stream",
     "text": [
      "Средняя температура в странах:\n",
      "Thailand - 23.9 C\n",
      "Germany - 13.8 C\n",
      "Russia - 3.7 C\n",
      "Poland - 12.0 C\n"
     ]
    }
   ],
   "source": [
    "#4\n",
    "countries_temperature = [\n",
    "    ['Thailand', [75.2, 77, 78.8, 73.4, 68, 75.2, 77]],\n",
    "    ['Germany', [57.2, 55.4, 59, 59, 53.6]],\n",
    "    ['Russia', [35.6, 37.4, 39.2, 41, 42.8, 39.2, 35.6]],\n",
    "    ['Poland', [50, 50, 53.6, 57.2, 55.4, 55.4]]\n",
    "]\n",
    "\n",
    "print('Средняя температура в странах:')\n",
    "z = 0\n",
    "\n",
    "while z < len(countries_temperature):\n",
    "    celsius_temperature = ((sum(countries_temperature[z][1]) / len(countries_temperature[z][1])) - 32) / 1.8\n",
    "    print(f'{countries_temperature[z][0]} - {round(celsius_temperature, 1)} C')\n",
    "    z += 1"
   ]
  },
  {
   "cell_type": "code",
   "execution_count": 8,
   "id": "48723fe3",
   "metadata": {},
   "outputs": [
    {
     "name": "stdout",
     "output_type": "stream",
     "text": [
      "Среднее количество просмотров на уникального пользователя: 23.25\n"
     ]
    }
   ],
   "source": [
    "#5\n",
    "stream = [\n",
    "    '2018-01-01,user1,3',\n",
    "    '2018-01-07,user1,4',\n",
    "    '2018-03-29,user1,1',\n",
    "    '2018-04-04,user1,13',\n",
    "    '2018-01-05,user2,7',\n",
    "    '2018-06-14,user3,4',\n",
    "    '2018-07-02,user3,10',\n",
    "    '2018-03-21,user4,19',\n",
    "    '2018-03-22,user4,4',\n",
    "    '2018-04-22,user4,8',\n",
    "    '2018-05-03,user4,9',\n",
    "    '2018-05-11,user4,11',\n",
    "]\n",
    "\n",
    "user = []\n",
    "us = 0\n",
    "\n",
    "while us < len(stream):\n",
    "    user.append((stream[us][11:].split(',')))\n",
    "    us += 1\n",
    "\n",
    "u = 0\n",
    "users = []\n",
    "views = []\n",
    "   \n",
    "while u < len(user):\n",
    "    users.append(user[u][0])\n",
    "    views.append(int(user[u][1]))\n",
    "    u += 1\n",
    "\n",
    "sum_views = sum(views)\n",
    "unique_users = len(set(users))\n",
    "    \n",
    "print(f'Среднее количество просмотров на уникального пользователя: {sum_views / unique_users}')"
   ]
  },
  {
   "cell_type": "code",
   "execution_count": 9,
   "id": "74fd1a65",
   "metadata": {},
   "outputs": [
    {
     "name": "stdout",
     "output_type": "stream",
     "text": [
      "Среднее количество просмотров на уникального пользователя: 145.33333333333334\n"
     ]
    }
   ],
   "source": [
    "stream = [\n",
    "    '2018-01-01,user100,150',\n",
    "    '2018-01-07,user99,205',\n",
    "    '2018-03-29,user1001,81'\n",
    "]\n",
    "\n",
    "user = []\n",
    "us = 0\n",
    "\n",
    "while us < len(stream):\n",
    "    user.append((stream[us][11:].split(',')))\n",
    "    us += 1\n",
    "\n",
    "u = 0\n",
    "users = []\n",
    "views = []\n",
    "   \n",
    "while u < len(user):\n",
    "    users.append(user[u][0])\n",
    "    views.append(int(user[u][1]))\n",
    "    u += 1\n",
    "\n",
    "sum_views = sum(views)\n",
    "unique_users = len(set(users))\n",
    "    \n",
    "print(f'Среднее количество просмотров на уникального пользователя: {sum_views / unique_users}')"
   ]
  },
  {
   "cell_type": "code",
   "execution_count": 10,
   "id": "cc39f0bc",
   "metadata": {},
   "outputs": [
    {
     "name": "stdout",
     "output_type": "stream",
     "text": [
      "Введите числа: 1 1 2 2 3 3\n",
      "['1', '1', '2', '2', '3', '3']\n"
     ]
    }
   ],
   "source": [
    "#6\n",
    "number = input('Введите числа: ')\n",
    "numbers = number.split(' ')\n",
    "\n",
    "print(numbers)"
   ]
  },
  {
   "cell_type": "code",
   "execution_count": null,
   "id": "166c48c1",
   "metadata": {
    "scrolled": false
   },
   "outputs": [],
   "source": []
  },
  {
   "cell_type": "code",
   "execution_count": null,
   "id": "11f0524b",
   "metadata": {},
   "outputs": [],
   "source": []
  },
  {
   "cell_type": "code",
   "execution_count": null,
   "id": "d0603fc3",
   "metadata": {},
   "outputs": [],
   "source": []
  }
 ],
 "metadata": {
  "kernelspec": {
   "display_name": "Python 3",
   "language": "python",
   "name": "python3"
  },
  "language_info": {
   "codemirror_mode": {
    "name": "ipython",
    "version": 3
   },
   "file_extension": ".py",
   "mimetype": "text/x-python",
   "name": "python",
   "nbconvert_exporter": "python",
   "pygments_lexer": "ipython3",
   "version": "3.8.8"
  }
 },
 "nbformat": 4,
 "nbformat_minor": 5
}
